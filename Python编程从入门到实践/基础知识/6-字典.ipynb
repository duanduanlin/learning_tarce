{
 "cells": [
  {
   "cell_type": "markdown",
   "metadata": {},
   "source": [
    "# 6-字典\n",
    "- 使用字典\n",
    "- 遍历字典\n",
    "- 嵌套"
   ]
  },
  {
   "cell_type": "markdown",
   "metadata": {},
   "source": [
    "## 6.1 简单的字典\n",
    "- 字典用({key:value})表示\n",
    "- key必须是可hash的值"
   ]
  },
  {
   "cell_type": "code",
   "execution_count": 2,
   "metadata": {},
   "outputs": [
    {
     "name": "stdout",
     "output_type": "stream",
     "text": [
      "duan duan lin\n",
      "22\n"
     ]
    }
   ],
   "source": [
    "#简单字典\n",
    "man = {\"name\":\"duan duan lin\",'age':22}\n",
    "print(man['name'])\n",
    "print(man['age'])"
   ]
  },
  {
   "cell_type": "markdown",
   "metadata": {},
   "source": [
    "## 6.2 使用字典\n",
    "- 访问字典值\n",
    "- 添加键值对\n",
    "- 修改字典中的值\n",
    "- 删除键值对"
   ]
  },
  {
   "cell_type": "code",
   "execution_count": 8,
   "metadata": {},
   "outputs": [
    {
     "name": "stdout",
     "output_type": "stream",
     "text": [
      "duan duan lin\n",
      "{'name': 'duan duan lin', 'age': 22, 'has_wife': False}\n",
      "{'name': 'duan duan lin', 'age': 22, 'has_wife': True}\n",
      "{'name': 'duan duan lin', 'age': 22}\n"
     ]
    }
   ],
   "source": [
    "#访问字典\n",
    "man = {\"name\":\"duan duan lin\",'age':22}\n",
    "print(man['name'])\n",
    "\n",
    "#添加键值对\n",
    "man['has_wife']=False\n",
    "print(man)\n",
    "\n",
    "#修改值\n",
    "man['has_wife'] = True\n",
    "print(man)\n",
    "\n",
    "#删除键值对\n",
    "del man['has_wife']\n",
    "print(man)"
   ]
  },
  {
   "cell_type": "markdown",
   "metadata": {},
   "source": [
    "## 6.3 遍历字典\n",
    "- items(),同时遍历键和值\n",
    "- keys(),遍历键\n",
    "- values(),遍历值"
   ]
  },
  {
   "cell_type": "code",
   "execution_count": 14,
   "metadata": {},
   "outputs": [
    {
     "name": "stdout",
     "output_type": "stream",
     "text": [
      "Help on method_descriptor:\n",
      "\n",
      "items(...)\n",
      "    D.items() -> a set-like object providing a view on D's items\n",
      "\n"
     ]
    }
   ],
   "source": [
    "help(dict.items)"
   ]
  },
  {
   "cell_type": "code",
   "execution_count": 15,
   "metadata": {},
   "outputs": [
    {
     "name": "stdout",
     "output_type": "stream",
     "text": [
      "Help on method_descriptor:\n",
      "\n",
      "keys(...)\n",
      "    D.keys() -> a set-like object providing a view on D's keys\n",
      "\n"
     ]
    }
   ],
   "source": [
    "help(dict.keys)"
   ]
  },
  {
   "cell_type": "code",
   "execution_count": 16,
   "metadata": {},
   "outputs": [
    {
     "name": "stdout",
     "output_type": "stream",
     "text": [
      "Help on method_descriptor:\n",
      "\n",
      "values(...)\n",
      "    D.values() -> an object providing a view on D's values\n",
      "\n"
     ]
    }
   ],
   "source": [
    "help(dict.values)"
   ]
  },
  {
   "cell_type": "code",
   "execution_count": 13,
   "metadata": {},
   "outputs": [
    {
     "name": "stdout",
     "output_type": "stream",
     "text": [
      "name : duan duan lin\n",
      "age : 22\n",
      "name : duan duan lin\n",
      "age : 22\n",
      "duan duan lin\n",
      "22\n"
     ]
    },
    {
     "data": {
      "text/plain": [
       "dict"
      ]
     },
     "execution_count": 13,
     "metadata": {},
     "output_type": "execute_result"
    }
   ],
   "source": [
    "#遍历键和值\n",
    "man = {\"name\":\"duan duan lin\",'age':22}\n",
    "for k,v in man.items():\n",
    "    print(k,\":\",v)\n",
    "    \n",
    "#遍历键\n",
    "for k in man.keys():\n",
    "    print(k,\":\",man[k])\n",
    "    \n",
    "#遍历值\n",
    "for v in man.values():\n",
    "    print(v)\n"
   ]
  }
 ],
 "metadata": {
  "kernelspec": {
   "display_name": "Python 3",
   "language": "python",
   "name": "python3"
  },
  "language_info": {
   "codemirror_mode": {
    "name": "ipython",
    "version": 3
   },
   "file_extension": ".py",
   "mimetype": "text/x-python",
   "name": "python",
   "nbconvert_exporter": "python",
   "pygments_lexer": "ipython3",
   "version": "3.7.1"
  }
 },
 "nbformat": 4,
 "nbformat_minor": 2
}

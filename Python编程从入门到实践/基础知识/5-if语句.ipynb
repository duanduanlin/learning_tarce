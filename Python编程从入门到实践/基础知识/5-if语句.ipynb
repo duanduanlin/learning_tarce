{
 "cells": [
  {
   "cell_type": "markdown",
   "metadata": {},
   "source": [
    "# 5-if语句\n",
    "- 条件测试\n",
    "- if 语句"
   ]
  },
  {
   "cell_type": "markdown",
   "metadata": {},
   "source": [
    "## 5.1 简单实例\n",
    "- if语句的核心时条件表达式\n",
    "- == 相等\n",
    "- != 不等"
   ]
  },
  {
   "cell_type": "code",
   "execution_count": 4,
   "metadata": {},
   "outputs": [
    {
     "name": "stdout",
     "output_type": "stream",
     "text": [
      "that's him!\n"
     ]
    }
   ],
   "source": [
    "#简单if\n",
    "name = 'ddl'\n",
    "if name == 'ddl':\n",
    "    print(\"that's him!\")\n",
    "\n",
    "if name != 'ddl':\n",
    "    print(\"that's not him.\")\n"
   ]
  },
  {
   "cell_type": "markdown",
   "metadata": {},
   "source": [
    "## 5.2 检查多个条件\n",
    "- and多个条件同时成立\n",
    "- or至少一个成立"
   ]
  },
  {
   "cell_type": "code",
   "execution_count": 8,
   "metadata": {},
   "outputs": [
    {
     "name": "stdout",
     "output_type": "stream",
     "text": [
      "that's him!\n"
     ]
    }
   ],
   "source": [
    "#and\n",
    "name = 'ddl'\n",
    "age = 22\n",
    "if name == 'ddl' and age == 22:\n",
    "    print(\"that's him!\")\n",
    "    \n",
    "if name != 'ddl' or age != 22:\n",
    "    print(\"that's not him.\")"
   ]
  },
  {
   "cell_type": "markdown",
   "metadata": {},
   "source": [
    "## 5.3 检查特定值是否存在\n",
    "- in 存在\n",
    "- not in 不存在"
   ]
  },
  {
   "cell_type": "code",
   "execution_count": 12,
   "metadata": {},
   "outputs": [
    {
     "name": "stdout",
     "output_type": "stream",
     "text": [
      "hello tom\n",
      "is ddl come?\n"
     ]
    }
   ],
   "source": [
    "names = ['duan duan lin','tom','jery']\n",
    "if 'tom' in names:\n",
    "    print(\"hello tom\")\n",
    "    \n",
    "if 'ddl' not in names:\n",
    "    print(\"is ddl come?\")"
   ]
  },
  {
   "cell_type": "markdown",
   "metadata": {},
   "source": [
    "## 5.4 if语句\n",
    "- 简单if语句\n",
    "- if-else语句\n",
    "- if-elif-else语句\n",
    "- 多elif语句"
   ]
  }
 ],
 "metadata": {
  "kernelspec": {
   "display_name": "Python 3",
   "language": "python",
   "name": "python3"
  },
  "language_info": {
   "codemirror_mode": {
    "name": "ipython",
    "version": 3
   },
   "file_extension": ".py",
   "mimetype": "text/x-python",
   "name": "python",
   "nbconvert_exporter": "python",
   "pygments_lexer": "ipython3",
   "version": "3.7.1"
  }
 },
 "nbformat": 4,
 "nbformat_minor": 2
}

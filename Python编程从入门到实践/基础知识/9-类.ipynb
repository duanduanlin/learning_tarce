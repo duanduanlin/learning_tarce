{
 "cells": [
  {
   "cell_type": "markdown",
   "metadata": {},
   "source": [
    "# 9-类\n",
    "- 创建和使用类\n",
    "- 使用类和实例\n",
    "- 继承\n",
    "- 导入类"
   ]
  },
  {
   "cell_type": "markdown",
   "metadata": {},
   "source": [
    "## 9.1 创建和使用类\n",
    "- 方法__init__();类初始化函数\n",
    "- 访问属性；类实例.属性名\n",
    "- 调用方法；类实例.方法名"
   ]
  },
  {
   "cell_type": "code",
   "execution_count": 5,
   "metadata": {},
   "outputs": [
    {
     "name": "stdout",
     "output_type": "stream",
     "text": [
      "my dog's name is Tom\n",
      "my dog's is 4 years old\n",
      "Tom is now sitting\n",
      "Tom rolled over\n"
     ]
    }
   ],
   "source": [
    "#创建Dog类\n",
    "class Dog():\n",
    "    '''\n",
    "    模拟小狗\n",
    "    '''\n",
    "    def __init__(self,name,age):\n",
    "        '''初始化属性name和age'''\n",
    "        self.name = name\n",
    "        self.age = age\n",
    "        \n",
    "    def sit(self):\n",
    "        '''模拟小狗坐下'''\n",
    "        print(self.name.title()+\" is now sitting\")\n",
    "        \n",
    "    def roll_over(self):\n",
    "        '''模拟小狗转圈'''\n",
    "        print(self.name.title()+' rolled over')\n",
    "        \n",
    "my_dog = Dog('tom',4)\n",
    "\n",
    "print(\"my dog's name is \"+my_dog.name.title())\n",
    "print(\"my dog's is \"+str(my_dog.age)+\" years old\")\n",
    "my_dog.sit()\n",
    "my_dog.roll_over()"
   ]
  },
  {
   "cell_type": "markdown",
   "metadata": {},
   "source": [
    "## 9.2 使用类和实例\n",
    "- 给属性指定默认值；\n",
    "- 修改属性的值；\n",
    "    - 直接修改\n",
    "    - 通过方法修改"
   ]
  },
  {
   "cell_type": "code",
   "execution_count": 7,
   "metadata": {},
   "outputs": [
    {
     "name": "stdout",
     "output_type": "stream",
     "text": [
      "2016 Audi A4\n",
      " this car has 0 miles on it.\n"
     ]
    }
   ],
   "source": [
    "#创建Car类\n",
    "#把里程数设为默认值0\n",
    "class Car():\n",
    "    '''模拟汽车'''\n",
    "    def __init__(self,make,model,year):\n",
    "        '''初始化汽车'''\n",
    "        self.make = make\n",
    "        self.model = model\n",
    "        self.year = year\n",
    "        self.odometer_reading = 0\n",
    "        \n",
    "    def get_descriptive_name(self):\n",
    "        '''返回整洁的描述信息'''\n",
    "        long_name = str(self.year)+\" \"+self.make+\" \"+self.model\n",
    "        return long_name.title()\n",
    "    \n",
    "    def read_odometer(self):\n",
    "        '''打印里程信息'''\n",
    "        print(\" this car has \"+str(self.odometer_reading)+\" miles on it.\")\n",
    "        \n",
    "\n",
    "new_car = Car(\"audi\",'a4',2016)\n",
    "print(new_car.get_descriptive_name())\n",
    "new_car.read_odometer()\n",
    "        "
   ]
  },
  {
   "cell_type": "code",
   "execution_count": 11,
   "metadata": {},
   "outputs": [
    {
     "name": "stdout",
     "output_type": "stream",
     "text": [
      "2016 Audi A4\n",
      " this car has 10 miles on it.\n",
      " this car has 20 miles on it.\n"
     ]
    }
   ],
   "source": [
    "#修改Car类，增加修改里程数的方法\n",
    "class Car():\n",
    "    '''模拟汽车'''\n",
    "    def __init__(self,make,model,year):\n",
    "        '''初始化汽车'''\n",
    "        self.make = make\n",
    "        self.model = model\n",
    "        self.year = year\n",
    "        self.odometer_reading = 0\n",
    "        \n",
    "    def get_descriptive_name(self):\n",
    "        '''返回整洁的描述信息'''\n",
    "        long_name = str(self.year)+\" \"+self.make+\" \"+self.model\n",
    "        return long_name.title()\n",
    "    \n",
    "    def read_odometer(self):\n",
    "        '''打印里程信息'''\n",
    "        print(\" this car has \"+str(self.odometer_reading)+\" miles on it.\")\n",
    "        \n",
    "    def update_odometer(self,miles):\n",
    "        '''更新里程数'''\n",
    "        self.odometer_reading = miles\n",
    "        \n",
    "new_car = Car(\"audi\",'a4',2016)\n",
    "print(new_car.get_descriptive_name())\n",
    "new_car.update_odometer(10)\n",
    "new_car.read_odometer()\n",
    "\n",
    "#直接修改里程数,不安全\n",
    "new_car.odometer_reading = 20\n",
    "new_car.read_odometer()"
   ]
  },
  {
   "cell_type": "markdown",
   "metadata": {},
   "source": [
    "## 9.3 继承\n",
    "- __init__():需要借助super()初始化\n",
    "- 子类可以拥有特有的方法\n",
    "- 子类也可重写父类方法"
   ]
  },
  {
   "cell_type": "code",
   "execution_count": 13,
   "metadata": {},
   "outputs": [
    {
     "name": "stdout",
     "output_type": "stream",
     "text": [
      "2016 Tesla Model S\n"
     ]
    }
   ],
   "source": [
    "#定义电动车继承自汽车\n",
    "class ElectricCar(Car):\n",
    "    '''模拟电动车'''\n",
    "    def __init__(self,make,model,year):\n",
    "        '''电动车初始化'''\n",
    "        super().__init__(make,model,year)\n",
    "        \n",
    "my_tesla = ElectricCar('tesla','model s',2016)\n",
    "print(my_tesla.get_descriptive_name())"
   ]
  },
  {
   "cell_type": "code",
   "execution_count": 15,
   "metadata": {},
   "outputs": [
    {
     "name": "stdout",
     "output_type": "stream",
     "text": [
      "2016 Tesla Model S\n",
      "this car has a 70 kwh battry\n"
     ]
    }
   ],
   "source": [
    "#为电动车添加自己的属性和方法\n",
    "class ElectricCar(Car):\n",
    "    '''模拟电动车'''\n",
    "    def __init__(self,make,model,year):\n",
    "        '''电动车初始化'''\n",
    "        super().__init__(make,model,year)\n",
    "        self.battry_size = 70\n",
    "        \n",
    "    def describe_battry(self):\n",
    "        '''描述电动车电池信息'''\n",
    "        print(\"this car has a \"+str(self.battry_size)+\" kwh battry\")\n",
    "        \n",
    "my_tesla = ElectricCar('tesla','model s',2016)\n",
    "print(my_tesla.get_descriptive_name())\n",
    "my_tesla.describe_battry()"
   ]
  },
  {
   "cell_type": "code",
   "execution_count": 20,
   "metadata": {},
   "outputs": [
    {
     "name": "stdout",
     "output_type": "stream",
     "text": [
      "2016 Tesla Model S\n",
      "this car has a 70 kwh battry\n",
      " this car has 10 miles on it.\n",
      "this car has a 69.9 kwh battry\n"
     ]
    }
   ],
   "source": [
    "#电动车里程数越高，电池容量越小\n",
    "#重写更新里程方法\n",
    "class ElectricCar(Car):\n",
    "    '''模拟电动车'''\n",
    "    def __init__(self,make,model,year):\n",
    "        '''电动车初始化'''\n",
    "        super().__init__(make,model,year)\n",
    "        self.battry_size = 70\n",
    "        \n",
    "    def describe_battry(self):\n",
    "        '''描述电动车电池信息'''\n",
    "        print(\"this car has a \"+str(self.battry_size)+\" kwh battry\")\n",
    "        \n",
    "    def update_odometer(self,miles):\n",
    "        '''描述电动车里程'''\n",
    "        self.odometer_reading = miles\n",
    "        self.battry_size = self.battry_size -  self.odometer_reading/100\n",
    "        \n",
    "my_tesla = ElectricCar('tesla','model s',2016)\n",
    "print(my_tesla.get_descriptive_name())\n",
    "my_tesla.describe_battry()\n",
    "\n",
    "my_tesla.update_odometer(10)\n",
    "my_tesla.read_odometer()\n",
    "my_tesla.describe_battry()"
   ]
  }
 ],
 "metadata": {
  "kernelspec": {
   "display_name": "Python 3",
   "language": "python",
   "name": "python3"
  },
  "language_info": {
   "codemirror_mode": {
    "name": "ipython",
    "version": 3
   },
   "file_extension": ".py",
   "mimetype": "text/x-python",
   "name": "python",
   "nbconvert_exporter": "python",
   "pygments_lexer": "ipython3",
   "version": "3.7.1"
  }
 },
 "nbformat": 4,
 "nbformat_minor": 2
}

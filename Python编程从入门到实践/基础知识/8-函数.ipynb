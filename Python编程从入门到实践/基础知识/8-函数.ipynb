{
 "cells": [
  {
   "cell_type": "markdown",
   "metadata": {},
   "source": [
    "# 8-函数\n",
    "- 定义函数\n",
    "- 传递实参\n",
    "- 返回值\n",
    "- 传递列表\n",
    "- 传递任意数量参数\n",
    "- 存储函数到模块"
   ]
  },
  {
   "cell_type": "markdown",
   "metadata": {},
   "source": [
    "## 8.1 定义函数\n"
   ]
  },
  {
   "cell_type": "code",
   "execution_count": 32,
   "metadata": {},
   "outputs": [
    {
     "name": "stdout",
     "output_type": "stream",
     "text": [
      "hello tom\n"
     ]
    }
   ],
   "source": [
    "#简单函数\n",
    "#函数内部第一个三引号表示函数文档\n",
    "def say_hello(name):\n",
    "    '''\n",
    "    向某人问好\n",
    "    参数 name 表示姓名\n",
    "    无返回值\n",
    "    '''\n",
    "    print(\"hello \"+name)\n",
    "    \n",
    "say_hello('tom')"
   ]
  },
  {
   "cell_type": "code",
   "execution_count": 7,
   "metadata": {},
   "outputs": [
    {
     "name": "stdout",
     "output_type": "stream",
     "text": [
      "Help on function say_hello in module __main__:\n",
      "\n",
      "say_hello(name)\n",
      "    向某人问好\n",
      "    参数 name 表示姓名\n",
      "    无返回值\n",
      "\n"
     ]
    }
   ],
   "source": [
    "help(say_hello)"
   ]
  },
  {
   "cell_type": "markdown",
   "metadata": {},
   "source": [
    "## 8.2 函数参数\n",
    "- 位置参数\n",
    "- 关键字参数\n",
    "- 默认参数"
   ]
  },
  {
   "cell_type": "code",
   "execution_count": 11,
   "metadata": {},
   "outputs": [
    {
     "name": "stdout",
     "output_type": "stream",
     "text": [
      "hello everyone,my name is tom, 23 years old\n"
     ]
    }
   ],
   "source": [
    "#测试位置参数\n",
    "#位置参数，要严格按照函数定义的位置传递参数，否则会出现不可预料的错误\n",
    "def say_hi(name,age):\n",
    "    print(\"hello everyone,my name is \"+name+\", \" + str(age) +\" years old\")\n",
    "    \n",
    "say_hi('tom',23)"
   ]
  },
  {
   "cell_type": "code",
   "execution_count": 13,
   "metadata": {},
   "outputs": [
    {
     "name": "stdout",
     "output_type": "stream",
     "text": [
      "hello everyone,my name is tom, 23 years old\n"
     ]
    }
   ],
   "source": [
    "#测试关键字参数\n",
    "#关键字参数可以指定参数名\n",
    "say_hi(age=23,name='tom')"
   ]
  },
  {
   "cell_type": "code",
   "execution_count": 15,
   "metadata": {},
   "outputs": [
    {
     "name": "stdout",
     "output_type": "stream",
     "text": [
      "hello everyone,my name is tom, 23 years old\n"
     ]
    }
   ],
   "source": [
    "#测试默认值\n",
    "#有些参数不想输入，可以设置默认值\n",
    "def say_hi(name,age=23):\n",
    "    print(\"hello everyone,my name is \"+name+\", \" + str(age) +\" years old\")\n",
    "    \n",
    "say_hi('tom')"
   ]
  },
  {
   "cell_type": "markdown",
   "metadata": {},
   "source": [
    "## 8.3 返回值"
   ]
  },
  {
   "cell_type": "code",
   "execution_count": 20,
   "metadata": {},
   "outputs": [
    {
     "name": "stdout",
     "output_type": "stream",
     "text": [
      "Tom Jacksion\n"
     ]
    }
   ],
   "source": [
    "#简单返回值\n",
    "def formatted_name(first_name,last_name):\n",
    "    full_name = first_name + ' ' + last_name\n",
    "    return full_name.title()\n",
    "\n",
    "print(formatted_name('tom','jacksion'))"
   ]
  },
  {
   "cell_type": "markdown",
   "metadata": {},
   "source": [
    "## 8.4 传递列表\n",
    "- 函数对所传列表的更改是永久的\n",
    "- 使用切片可以禁止函数修改列表\n",
    "- for循环中若要对所循环的列表进行操作，请使用切片"
   ]
  },
  {
   "cell_type": "code",
   "execution_count": 29,
   "metadata": {},
   "outputs": [
    {
     "name": "stdout",
     "output_type": "stream",
     "text": [
      "hello tom\n",
      "hello jery\n",
      "['jery']\n"
     ]
    }
   ],
   "source": [
    "#测试传递列表\n",
    "names = ['tom','jery']\n",
    "\n",
    "def check_name(names):\n",
    "    for name in names[:]:\n",
    "        print(\"hello \"+name)\n",
    "        if name == 'tom':\n",
    "            names.remove('tom')\n",
    "check_name(names)            \n",
    "print(names)"
   ]
  },
  {
   "cell_type": "code",
   "execution_count": 31,
   "metadata": {},
   "outputs": [
    {
     "name": "stdout",
     "output_type": "stream",
     "text": [
      "hello tom\n",
      "hello jery\n",
      "['tom', 'jery']\n"
     ]
    }
   ],
   "source": [
    "#使用切片\n",
    "names = ['tom','jery']\n",
    "check_name(names[:]) \n",
    "print(names)"
   ]
  },
  {
   "cell_type": "markdown",
   "metadata": {},
   "source": [
    "## 8.5 传递任意数量的参数\n",
    "- 传递任意数量的位置参数 *\n",
    "- 传递任意数量的关键字参数 **"
   ]
  },
  {
   "cell_type": "markdown",
   "metadata": {},
   "source": [
    "## 8.6 导入函数\n",
    "- import 模块名，直接导入整个模块\n",
    "     - 这时使用函数用，模块名.函数名\n",
    "- from 模块名 import 函数名，导入特定函数\n",
    "     - 直接函数名，调用函数\n",
    "- from 模块名 import 函数名 as f，给函数起别名\n",
    "- import 模块名 as m,给模块起别名"
   ]
  }
 ],
 "metadata": {
  "kernelspec": {
   "display_name": "Python 3",
   "language": "python",
   "name": "python3"
  },
  "language_info": {
   "codemirror_mode": {
    "name": "ipython",
    "version": 3
   },
   "file_extension": ".py",
   "mimetype": "text/x-python",
   "name": "python",
   "nbconvert_exporter": "python",
   "pygments_lexer": "ipython3",
   "version": "3.7.1"
  }
 },
 "nbformat": 4,
 "nbformat_minor": 2
}

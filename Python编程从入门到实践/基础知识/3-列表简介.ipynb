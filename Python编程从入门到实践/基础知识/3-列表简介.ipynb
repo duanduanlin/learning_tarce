{
 "cells": [
  {
   "cell_type": "markdown",
   "metadata": {},
   "source": [
    "# 3-列表简介\n",
    "- 什么是列表\n",
    "- 修改，删除，添加元素\n",
    "- 组织列表"
   ]
  },
  {
   "cell_type": "markdown",
   "metadata": {},
   "source": [
    "## 3.1 列表是什么\n",
    "- 列表是由一系列特定顺序的元素组成\n",
    "- 任何东西都可以加入到列表中\n",
    "- 列表用([])表示，并用(,)分隔元素"
   ]
  },
  {
   "cell_type": "code",
   "execution_count": 3,
   "metadata": {},
   "outputs": [
    {
     "name": "stdout",
     "output_type": "stream",
     "text": [
      "['duan duan lin', 'tom', 'jery']\n",
      "<class 'list'>\n"
     ]
    }
   ],
   "source": [
    "#简单列表\n",
    "names = ['duan duan lin','tom','jery']\n",
    "print(names)\n",
    "print(type(names))"
   ]
  },
  {
   "cell_type": "markdown",
   "metadata": {},
   "source": [
    "### 3.1.1 访问列表元素\n",
    "- 通过索引访问\n",
    "- 索引从0开始\n",
    "- 负值索引表示从类别尾部开始，最后一个元素为-1"
   ]
  },
  {
   "cell_type": "code",
   "execution_count": 7,
   "metadata": {},
   "outputs": [
    {
     "name": "stdout",
     "output_type": "stream",
     "text": [
      "duan duan lin\n",
      "jery\n",
      "jery\n"
     ]
    }
   ],
   "source": [
    "#访问列表\n",
    "names = ['duan duan lin','tom','jery']\n",
    "print(names[0])\n",
    "print(names[2])\n",
    "print(names[-1])"
   ]
  },
  {
   "cell_type": "markdown",
   "metadata": {},
   "source": [
    "## 3.1.2 修改列表元素\n",
    "- 指定要修改的元素的索引，给其赋个新值"
   ]
  },
  {
   "cell_type": "code",
   "execution_count": 1,
   "metadata": {},
   "outputs": [
    {
     "name": "stdout",
     "output_type": "stream",
     "text": [
      "duan duan lin\n",
      "ddl\n"
     ]
    }
   ],
   "source": [
    "#修改列表元素\n",
    "names = ['duan duan lin','tom','jery']\n",
    "print(names[0])\n",
    "names[0] = 'ddl'\n",
    "print(names[0])"
   ]
  },
  {
   "cell_type": "markdown",
   "metadata": {},
   "source": [
    "### 3.1.3 添加元素到列表\n",
    "- append()默认添加到末尾\n",
    "- insert()指定位置插入"
   ]
  },
  {
   "cell_type": "code",
   "execution_count": 11,
   "metadata": {},
   "outputs": [
    {
     "name": "stdout",
     "output_type": "stream",
     "text": [
      "Help on method_descriptor:\n",
      "\n",
      "append(self, object, /)\n",
      "    Append object to the end of the list.\n",
      "\n"
     ]
    }
   ],
   "source": [
    "help(list.append)"
   ]
  },
  {
   "cell_type": "code",
   "execution_count": 4,
   "metadata": {},
   "outputs": [
    {
     "name": "stdout",
     "output_type": "stream",
     "text": [
      "['duan duan lin', 'tom', 'jery', 'jeck']\n",
      "['duan duan lin', 'andy', 'tom', 'jery', 'jeck']\n"
     ]
    }
   ],
   "source": [
    "#添加元素\n",
    "#append\n",
    "names = ['duan duan lin','tom','jery']\n",
    "names.append(\"jeck\")\n",
    "print(names)\n",
    "\n",
    "#insert\n",
    "names.insert(1,'andy')\n",
    "print(names)"
   ]
  },
  {
   "cell_type": "markdown",
   "metadata": {},
   "source": [
    "### 3.1.4 从列表中删除元素\n",
    "- del删除某个元素\n",
    "- pop()默认删除尾部元素，并返回其值。也可指定待删除元素索引\n",
    "- remove()根据值删除某元素，若有多个值，则只删除第一个"
   ]
  },
  {
   "cell_type": "code",
   "execution_count": 12,
   "metadata": {},
   "outputs": [
    {
     "name": "stdout",
     "output_type": "stream",
     "text": [
      "Help on method_descriptor:\n",
      "\n",
      "pop(self, index=-1, /)\n",
      "    Remove and return item at index (default last).\n",
      "    \n",
      "    Raises IndexError if list is empty or index is out of range.\n",
      "\n"
     ]
    }
   ],
   "source": [
    "help(list.pop)"
   ]
  },
  {
   "cell_type": "code",
   "execution_count": 13,
   "metadata": {},
   "outputs": [
    {
     "name": "stdout",
     "output_type": "stream",
     "text": [
      "Help on method_descriptor:\n",
      "\n",
      "remove(self, value, /)\n",
      "    Remove first occurrence of value.\n",
      "    \n",
      "    Raises ValueError if the value is not present.\n",
      "\n"
     ]
    }
   ],
   "source": [
    "help(list.remove)"
   ]
  },
  {
   "cell_type": "code",
   "execution_count": 14,
   "metadata": {},
   "outputs": [
    {
     "name": "stdout",
     "output_type": "stream",
     "text": [
      "['duan duan lin', 'tom', 'jery']\n",
      "['tom', 'jery']\n",
      "jery\n",
      "['duan duan lin', 'tom']\n",
      "tom\n",
      "['duan duan lin', 'jery']\n",
      "['duan duan lin', 'jery', 'tom']\n"
     ]
    }
   ],
   "source": [
    "#删除元素\n",
    "#del\n",
    "names = ['duan duan lin','tom','jery']\n",
    "print(names)\n",
    "del names[0]\n",
    "print(names)\n",
    "#pop\n",
    "names = ['duan duan lin','tom','jery']\n",
    "print(names.pop())\n",
    "print(names)\n",
    "#pop(index)\n",
    "names = ['duan duan lin','tom','jery']\n",
    "print(names.pop(1))\n",
    "print(names)\n",
    "#remove\n",
    "names = ['duan duan lin','tom','jery','tom']\n",
    "names.remove('tom')\n",
    "print(names)"
   ]
  },
  {
   "cell_type": "markdown",
   "metadata": {},
   "source": [
    "## 3.2 组织列表\n",
    "- sort()永久性排序\n",
    "- sorted()临时排序\n",
    "- reverse()倒序\n",
    "- len()计算列表长度"
   ]
  },
  {
   "cell_type": "code",
   "execution_count": 16,
   "metadata": {},
   "outputs": [
    {
     "name": "stdout",
     "output_type": "stream",
     "text": [
      "Help on method_descriptor:\n",
      "\n",
      "sort(self, /, *, key=None, reverse=False)\n",
      "    Stable sort *IN PLACE*.\n",
      "\n"
     ]
    }
   ],
   "source": [
    "help(list.sort)"
   ]
  },
  {
   "cell_type": "code",
   "execution_count": 18,
   "metadata": {},
   "outputs": [
    {
     "name": "stdout",
     "output_type": "stream",
     "text": [
      "['duan duan lin', 'jery', 'tom']\n"
     ]
    }
   ],
   "source": [
    "#sort永久排序\n",
    "names = ['duan duan lin','tom','jery']\n",
    "names.sort()\n",
    "print(names)"
   ]
  },
  {
   "cell_type": "code",
   "execution_count": 21,
   "metadata": {},
   "outputs": [
    {
     "name": "stdout",
     "output_type": "stream",
     "text": [
      "Help on built-in function sorted in module builtins:\n",
      "\n",
      "sorted(iterable, /, *, key=None, reverse=False)\n",
      "    Return a new list containing all items from the iterable in ascending order.\n",
      "    \n",
      "    A custom key function can be supplied to customize the sort order, and the\n",
      "    reverse flag can be set to request the result in descending order.\n",
      "\n"
     ]
    }
   ],
   "source": [
    "help(sorted)"
   ]
  },
  {
   "cell_type": "code",
   "execution_count": 24,
   "metadata": {},
   "outputs": [
    {
     "name": "stdout",
     "output_type": "stream",
     "text": [
      "['duan duan lin', 'jery', 'tom']\n",
      "['duan duan lin', 'tom', 'jery']\n"
     ]
    }
   ],
   "source": [
    "#临时排序\n",
    "names = ['duan duan lin','tom','jery']\n",
    "print(sorted(names))\n",
    "print(names)"
   ]
  },
  {
   "cell_type": "code",
   "execution_count": 26,
   "metadata": {},
   "outputs": [
    {
     "name": "stdout",
     "output_type": "stream",
     "text": [
      "Help on method_descriptor:\n",
      "\n",
      "reverse(self, /)\n",
      "    Reverse *IN PLACE*.\n",
      "\n"
     ]
    }
   ],
   "source": [
    "help(list.reverse)"
   ]
  },
  {
   "cell_type": "code",
   "execution_count": 28,
   "metadata": {},
   "outputs": [
    {
     "name": "stdout",
     "output_type": "stream",
     "text": [
      "['jery', 'tom', 'duan duan lin']\n"
     ]
    }
   ],
   "source": [
    "#reverse原地倒序\n",
    "names = ['duan duan lin','tom','jery']\n",
    "names.reverse()\n",
    "print(names)"
   ]
  },
  {
   "cell_type": "code",
   "execution_count": 30,
   "metadata": {},
   "outputs": [
    {
     "name": "stdout",
     "output_type": "stream",
     "text": [
      "Help on built-in function len in module builtins:\n",
      "\n",
      "len(obj, /)\n",
      "    Return the number of items in a container.\n",
      "\n"
     ]
    }
   ],
   "source": [
    "help(len)"
   ]
  },
  {
   "cell_type": "code",
   "execution_count": 31,
   "metadata": {},
   "outputs": [
    {
     "name": "stdout",
     "output_type": "stream",
     "text": [
      "3\n"
     ]
    }
   ],
   "source": [
    "#len计算元素个数\n",
    "names = ['duan duan lin','tom','jery']\n",
    "print(len(names))"
   ]
  }
 ],
 "metadata": {
  "kernelspec": {
   "display_name": "Python 3",
   "language": "python",
   "name": "python3"
  },
  "language_info": {
   "codemirror_mode": {
    "name": "ipython",
    "version": 3
   },
   "file_extension": ".py",
   "mimetype": "text/x-python",
   "name": "python",
   "nbconvert_exporter": "python",
   "pygments_lexer": "ipython3",
   "version": "3.7.1"
  }
 },
 "nbformat": 4,
 "nbformat_minor": 2
}

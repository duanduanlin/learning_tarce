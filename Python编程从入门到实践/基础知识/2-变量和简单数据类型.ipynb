{
 "cells": [
  {
   "cell_type": "markdown",
   "metadata": {},
   "source": [
    "# 2-变量和简单数据类型\n",
    "- 变量\n",
    "- 字符串\n",
    "- 数字\n",
    "- 注释"
   ]
  },
  {
   "cell_type": "code",
   "execution_count": 2,
   "metadata": {},
   "outputs": [
    {
     "name": "stdout",
     "output_type": "stream",
     "text": [
      "hello world!\n"
     ]
    }
   ],
   "source": [
    "#第一次运行\n",
    "print(\"hello world!\")"
   ]
  },
  {
   "cell_type": "markdown",
   "metadata": {},
   "source": [
    "## 2.1 变量\n",
    "- 变量类似于c语言中的指针，指向内存中的某个位置，里面存放着变量所指代的数据\n",
    "- 变量本身是没有类型的可以指向任何数据"
   ]
  },
  {
   "cell_type": "code",
   "execution_count": 4,
   "metadata": {},
   "outputs": [
    {
     "name": "stdout",
     "output_type": "stream",
     "text": [
      "hello world!\n",
      "10\n"
     ]
    }
   ],
   "source": [
    "#新建一个变量，指向一个字符串并打印出来\n",
    "message = \"hello world!\"\n",
    "print(message)\n",
    "#同时也可以指向一个数字\n",
    "message = 10\n",
    "print(message)"
   ]
  },
  {
   "cell_type": "markdown",
   "metadata": {},
   "source": [
    "### 2.1.1 变量的命名和使用\n",
    "- 变量名只能包含字母，数字和下划线，且不能以数字开头\n",
    "- 变量名不能有空格\n",
    "- 变量名应该尽可能简单且具有描述性，如name,age等"
   ]
  },
  {
   "cell_type": "markdown",
   "metadata": {},
   "source": [
    "## 2.2 字符串\n",
    "- 用单引号或双引号括起来的都是字符串"
   ]
  },
  {
   "cell_type": "code",
   "execution_count": 7,
   "metadata": {},
   "outputs": [
    {
     "name": "stdout",
     "output_type": "stream",
     "text": [
      "this is a simple string\n",
      "this is another simple string\n",
      "\"I love you\",said by ddl\n"
     ]
    }
   ],
   "source": [
    "#简单字符串并打印出来\n",
    "message1 = 'this is a simple string'\n",
    "message2 = \"this is another simple string\"\n",
    "print(message1)\n",
    "print(message2)\n",
    "#单双引号可以交替使用\n",
    "message3 = '\"I love you\",said by ddl'\n",
    "print(message3)"
   ]
  },
  {
   "cell_type": "markdown",
   "metadata": {},
   "source": [
    "### 2.2.1 使用方法修改字符串的大小写\n",
    "- title(),以首字母大写的形式显示字符串中的每个单词\n",
    "- upper(),全部大写\n",
    "- lower(),全部小写"
   ]
  },
  {
   "cell_type": "code",
   "execution_count": 11,
   "metadata": {},
   "outputs": [
    {
     "name": "stdout",
     "output_type": "stream",
     "text": [
      "Duan Duan Lin\n",
      "DUAN DUAN LIN\n",
      "duan duan lin\n"
     ]
    }
   ],
   "source": [
    "#测试方法title(),upper(),lower()\n",
    "name = \"duan duan lin\"\n",
    "#首字母大写\n",
    "print(name.title())\n",
    "#全部大写\n",
    "print(name.upper())\n",
    "#全部小写\n",
    "print(name.lower())"
   ]
  },
  {
   "cell_type": "markdown",
   "metadata": {},
   "source": [
    "### 2.2.2 拼接字符串\n",
    "- 使用+拼接字符串"
   ]
  },
  {
   "cell_type": "code",
   "execution_count": 15,
   "metadata": {},
   "outputs": [
    {
     "name": "stdout",
     "output_type": "stream",
     "text": [
      "hello,duan duan lin!\n"
     ]
    }
   ],
   "source": [
    "#字符串拼接实例\n",
    "last_name = \"duan lin\"\n",
    "first_name = \"duan\"\n",
    "full_name = first_name + \" \" + last_name\n",
    "print(\"hello,\"+full_name+\"!\")"
   ]
  },
  {
   "cell_type": "markdown",
   "metadata": {},
   "source": [
    "### 2.2.3 删除空白\n",
    "- rstrip(),删除末尾空白\n",
    "- lstrip(),删除开头空白\n",
    "- strip(),删除两端空白"
   ]
  },
  {
   "cell_type": "code",
   "execution_count": 27,
   "metadata": {},
   "outputs": [
    {
     "name": "stdout",
     "output_type": "stream",
     "text": [
      " duan duan lin  15\n",
      "duan duan lin  14\n",
      " duan duan lin 14\n",
      "duan duan lin 13\n"
     ]
    }
   ],
   "source": [
    "#测试删除空白\n",
    "name = \" duan duan lin \"\n",
    "print(name,len(name))\n",
    "print(name.lstrip(),len(name.lstrip()))\n",
    "print(name.rstrip(),len(name.rstrip()))\n",
    "print(name.strip(),len(name.strip()))"
   ]
  },
  {
   "cell_type": "markdown",
   "metadata": {},
   "source": [
    "### 2.3 数字\n",
    "- python中数字只有两种，一种是整数，一种是浮点数\n",
    "- 带小数点的全是浮点数,可用type()函数确定数字类型\n",
    "- 对数字运算时会尽可能精确的表示结果\n",
    "- 使用str()函数可以避免类型错误"
   ]
  },
  {
   "cell_type": "code",
   "execution_count": 34,
   "metadata": {},
   "outputs": [
    {
     "name": "stdout",
     "output_type": "stream",
     "text": [
      "<class 'int'>\n",
      "5\n",
      "1\n",
      "6\n",
      "1.5\n",
      "1\n"
     ]
    }
   ],
   "source": [
    "#整数运算\n",
    "print(type(2))\n",
    "print(2+3)\n",
    "print(3-2)\n",
    "print(2*3)\n",
    "print(3/2)\n",
    "#python 在表示结果时会尽可能精确，你可以手动对结果进行处理\n",
    "print(int(3/2))"
   ]
  },
  {
   "cell_type": "code",
   "execution_count": 41,
   "metadata": {},
   "outputs": [
    {
     "name": "stdout",
     "output_type": "stream",
     "text": [
      "<class 'float'>\n",
      "0.30000000000000004\n",
      "0.1\n",
      "0.020000000000000004\n",
      "2.0\n",
      "1.1\n"
     ]
    }
   ],
   "source": [
    "#浮点数运算\n",
    "print(type(0.1))\n",
    "print(0.2+0.1)\n",
    "print(0.2-0.1)\n",
    "print(0.2*0.1)\n",
    "print(0.2/0.1)\n",
    "print(0.1+1)"
   ]
  },
  {
   "cell_type": "code",
   "execution_count": 43,
   "metadata": {},
   "outputs": [
    {
     "ename": "TypeError",
     "evalue": "can only concatenate str (not \"int\") to str",
     "output_type": "error",
     "traceback": [
      "\u001b[1;31m---------------------------------------------------------------------------\u001b[0m",
      "\u001b[1;31mTypeError\u001b[0m                                 Traceback (most recent call last)",
      "\u001b[1;32m<ipython-input-43-67ff9edfb0d9>\u001b[0m in \u001b[0;36m<module>\u001b[1;34m\u001b[0m\n\u001b[0;32m      2\u001b[0m \u001b[0mname\u001b[0m \u001b[1;33m=\u001b[0m \u001b[1;34m\"duan duan lin\"\u001b[0m\u001b[1;33m\u001b[0m\u001b[1;33m\u001b[0m\u001b[0m\n\u001b[0;32m      3\u001b[0m \u001b[0mage\u001b[0m \u001b[1;33m=\u001b[0m \u001b[1;36m22\u001b[0m\u001b[1;33m\u001b[0m\u001b[1;33m\u001b[0m\u001b[0m\n\u001b[1;32m----> 4\u001b[1;33m \u001b[0mmessage\u001b[0m \u001b[1;33m=\u001b[0m \u001b[1;34m\"my name is \"\u001b[0m \u001b[1;33m+\u001b[0m \u001b[0mname\u001b[0m \u001b[1;33m+\u001b[0m \u001b[1;34m\", and i'm \"\u001b[0m \u001b[1;33m+\u001b[0m \u001b[0mage\u001b[0m \u001b[1;33m+\u001b[0m\u001b[1;34m\" .\"\u001b[0m\u001b[1;33m\u001b[0m\u001b[1;33m\u001b[0m\u001b[0m\n\u001b[0m\u001b[0;32m      5\u001b[0m \u001b[0mprint\u001b[0m\u001b[1;33m(\u001b[0m\u001b[0mmessage\u001b[0m\u001b[1;33m)\u001b[0m\u001b[1;33m\u001b[0m\u001b[1;33m\u001b[0m\u001b[0m\n",
      "\u001b[1;31mTypeError\u001b[0m: can only concatenate str (not \"int\") to str"
     ]
    }
   ],
   "source": [
    "#数字和字符串混合使用时要注意类型问题\n",
    "name = \"duan duan lin\"\n",
    "age = 22\n",
    "message = \"my name is \" + name + \", and i'm \" + age +\" .\"\n",
    "print(message)"
   ]
  },
  {
   "cell_type": "code",
   "execution_count": 45,
   "metadata": {},
   "outputs": [
    {
     "name": "stdout",
     "output_type": "stream",
     "text": [
      "my name is duan duan lin, and i'm 22 .\n"
     ]
    }
   ],
   "source": [
    "#修改后\n",
    "name = \"duan duan lin\"\n",
    "age = 22\n",
    "message = \"my name is \" + name + \", and i'm \" + str(age) +\" .\"\n",
    "print(message)"
   ]
  },
  {
   "cell_type": "markdown",
   "metadata": {},
   "source": [
    "### 2.4 注释\n",
    "- 单行注释#\n",
    "- 多行注释'''"
   ]
  },
  {
   "cell_type": "code",
   "execution_count": 48,
   "metadata": {},
   "outputs": [
    {
     "name": "stdout",
     "output_type": "stream",
     "text": [
      "hello world!\n"
     ]
    }
   ],
   "source": [
    "#这是一个单行注释\n",
    "'''\n",
    "这是一个多行注释的第一行\n",
    "这是第二行\n",
    "'''\n",
    "print(\"hello world!\")\n",
    "#这是另一个单行注释"
   ]
  }
 ],
 "metadata": {
  "kernelspec": {
   "display_name": "Python 3",
   "language": "python",
   "name": "python3"
  },
  "language_info": {
   "codemirror_mode": {
    "name": "ipython",
    "version": 3
   },
   "file_extension": ".py",
   "mimetype": "text/x-python",
   "name": "python",
   "nbconvert_exporter": "python",
   "pygments_lexer": "ipython3",
   "version": "3.7.1"
  }
 },
 "nbformat": 4,
 "nbformat_minor": 2
}

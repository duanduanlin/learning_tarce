{
 "cells": [
  {
   "cell_type": "markdown",
   "metadata": {},
   "source": [
    "# 7-用户输入和while循环\n",
    "- input\n",
    "- while"
   ]
  },
  {
   "cell_type": "markdown",
   "metadata": {},
   "source": [
    "## 7.1 函数input\n",
    "- 接受一个参数，表示显示的提示信息\n",
    "- 返回值为字符串"
   ]
  },
  {
   "cell_type": "code",
   "execution_count": 1,
   "metadata": {},
   "outputs": [
    {
     "name": "stdout",
     "output_type": "stream",
     "text": [
      "Help on method raw_input in module ipykernel.kernelbase:\n",
      "\n",
      "raw_input(prompt='') method of ipykernel.ipkernel.IPythonKernel instance\n",
      "    Forward raw_input to frontends\n",
      "    \n",
      "    Raises\n",
      "    ------\n",
      "    StdinNotImplentedError if active frontend doesn't support stdin.\n",
      "\n"
     ]
    }
   ],
   "source": [
    "help(input)"
   ]
  },
  {
   "cell_type": "code",
   "execution_count": 3,
   "metadata": {},
   "outputs": [
    {
     "name": "stdout",
     "output_type": "stream",
     "text": [
      "please input your name:duan duan lin\n",
      "hello duan duan lin\n"
     ]
    }
   ],
   "source": [
    "#简单实例\n",
    "name = input(\"please input your name:\")\n",
    "print(\"hello \"+name)"
   ]
  },
  {
   "cell_type": "code",
   "execution_count": 5,
   "metadata": {},
   "outputs": [
    {
     "name": "stdout",
     "output_type": "stream",
     "text": [
      "please input your age: 23\n",
      "your age is 23\n"
     ]
    }
   ],
   "source": [
    "#获取数值\n",
    "age = int(input(\"please input your age: \"))\n",
    "print(\"your age is \"+str(age))\n"
   ]
  },
  {
   "cell_type": "markdown",
   "metadata": {},
   "source": [
    "## 7.2 while循环\n",
    "- 使用while循环输入\n",
    "- 使用标志控制循环\n",
    "- 使用break和continue控制循环"
   ]
  },
  {
   "cell_type": "code",
   "execution_count": 7,
   "metadata": {},
   "outputs": [
    {
     "name": "stdout",
     "output_type": "stream",
     "text": [
      "1\n",
      "2\n",
      "3\n",
      "4\n",
      "5\n"
     ]
    }
   ],
   "source": [
    "#简单while\n",
    "n = 1\n",
    "while n <= 5:\n",
    "    print(n)\n",
    "    n += 1"
   ]
  },
  {
   "cell_type": "code",
   "execution_count": 14,
   "metadata": {},
   "outputs": [
    {
     "name": "stdout",
     "output_type": "stream",
     "text": [
      "please input your name,and we say hello to you(enter 'quit' to stop): ddl\n",
      "hello ddl\n",
      "please input your name,and we say hello to you(enter 'quit' to stop): tom\n",
      "hello tom\n",
      "please input your name,and we say hello to you(enter 'quit' to stop): jery\n",
      "hello jery\n",
      "please input your name,and we say hello to you(enter 'quit' to stop): quit\n"
     ]
    }
   ],
   "source": [
    "#循环输入\n",
    "info = \"please input your name,and we say hello to you(enter 'quit' to stop): \"\n",
    "name = ''\n",
    "while name != 'quit':\n",
    "    name = input(info)\n",
    "    if name != 'quit':\n",
    "        print(\"hello \"+name)"
   ]
  },
  {
   "cell_type": "code",
   "execution_count": 17,
   "metadata": {},
   "outputs": [
    {
     "name": "stdout",
     "output_type": "stream",
     "text": [
      "please input your name,and we say hello to you(enter 'quit' to stop): ddl\n",
      "hello ddl\n",
      "please input your name,and we say hello to you(enter 'quit' to stop): tom\n",
      "hello tom\n",
      "please input your name,and we say hello to you(enter 'quit' to stop): jery\n",
      "hello jery\n",
      "please input your name,and we say hello to you(enter 'quit' to stop): quit\n"
     ]
    }
   ],
   "source": [
    "#使用标志控制循环\n",
    "info = \"please input your name,and we say hello to you(enter 'quit' to stop): \"\n",
    "active = True\n",
    "\n",
    "while active:\n",
    "    name = input(info)\n",
    "    if name == 'quit':\n",
    "        active = False\n",
    "    else:\n",
    "        print(\"hello \"+name)"
   ]
  },
  {
   "cell_type": "code",
   "execution_count": 19,
   "metadata": {},
   "outputs": [
    {
     "name": "stdout",
     "output_type": "stream",
     "text": [
      "please input your name,and we say hello to you(enter 'quit' to stop): ddl\n",
      "hello ddl\n",
      "please input your name,and we say hello to you(enter 'quit' to stop): tom\n",
      "hello tom\n",
      "please input your name,and we say hello to you(enter 'quit' to stop): jery\n",
      "hello jery\n",
      "please input your name,and we say hello to you(enter 'quit' to stop): quit\n"
     ]
    }
   ],
   "source": [
    "#使用break控制循环\n",
    "info = \"please input your name,and we say hello to you(enter 'quit' to stop): \"\n",
    "\n",
    "while True:\n",
    "    name = input(info)\n",
    "    if name == 'quit':\n",
    "        break\n",
    "    else:\n",
    "        print(\"hello \"+name)"
   ]
  },
  {
   "cell_type": "markdown",
   "metadata": {},
   "source": [
    "## 7.3 使用while循环来处理列表和字典\n",
    "- 在列表之间移动元素\n",
    "- 删除所有包含指定信息的元素\n",
    "- 使用用户输入来填充字典"
   ]
  },
  {
   "cell_type": "code",
   "execution_count": 22,
   "metadata": {},
   "outputs": [
    {
     "name": "stdout",
     "output_type": "stream",
     "text": [
      "my friend jery\n",
      "my friend tom\n",
      "my friend duan duan lin\n",
      "hello jery\n",
      "hello tom\n",
      "hello duan duan lin\n"
     ]
    }
   ],
   "source": [
    "# 列表间移动元素\n",
    "names = ['duan duan lin','tom','jery']\n",
    "friends = []\n",
    "\n",
    "while names:\n",
    "    name = names.pop()\n",
    "    print(\"my friend \"+ name)\n",
    "    friends.append(name)\n",
    "    \n",
    "for friend in friends:\n",
    "    print(\"hello \"+friend)"
   ]
  },
  {
   "cell_type": "code",
   "execution_count": 24,
   "metadata": {},
   "outputs": [
    {
     "name": "stdout",
     "output_type": "stream",
     "text": [
      "['duan duan lin', 'jery']\n"
     ]
    }
   ],
   "source": [
    "#删除包含特定信息的元素\n",
    "names = ['duan duan lin','tom','jery','tom']\n",
    "\n",
    "while 'tom' in names:\n",
    "    names.remove('tom')\n",
    "    \n",
    "print(names)"
   ]
  },
  {
   "cell_type": "code",
   "execution_count": null,
   "metadata": {},
   "outputs": [
    {
     "name": "stdout",
     "output_type": "stream",
     "text": [
      "what's your name?: ddl\n",
      "what's your academy?: che\n",
      "would you like to continue?(yes/no)：yes\n",
      "what's your name?: tom\n",
      "what's your academy?: med\n",
      "would you like to continue?(yes/no)：yes\n",
      "what's your name?: jery\n"
     ]
    }
   ],
   "source": [
    "# 开学报道\n",
    "school_report = []\n",
    "\n",
    "while True:\n",
    "    student = {}\n",
    "    \n",
    "    name = input(\"what's your name?: \")\n",
    "    academy = input(\"what's your academy?: \")\n",
    "    \n",
    "    student[name] = academy\n",
    "    \n",
    "    school_report.append(student)\n",
    "    repeat = input(\"would you like to continue?(yes/no)：\")\n",
    "    if repeat == 'no':\n",
    "        break\n",
    "        \n",
    "print(school_report)\n"
   ]
  }
 ],
 "metadata": {
  "kernelspec": {
   "display_name": "Python 3",
   "language": "python",
   "name": "python3"
  },
  "language_info": {
   "codemirror_mode": {
    "name": "ipython",
    "version": 3
   },
   "file_extension": ".py",
   "mimetype": "text/x-python",
   "name": "python",
   "nbconvert_exporter": "python",
   "pygments_lexer": "ipython3",
   "version": "3.7.1"
  }
 },
 "nbformat": 4,
 "nbformat_minor": 2
}
